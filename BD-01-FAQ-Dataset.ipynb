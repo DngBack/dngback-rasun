{
 "cells": [
  {
   "cell_type": "code",
   "execution_count": 3,
   "metadata": {},
   "outputs": [
    {
     "name": "stdout",
     "output_type": "stream",
     "text": [
      "{'Unnamed: 0': nan, 'Unnamed: 1': nan, 'Unnamed: 2': nan, 'Unnamed: 3': nan, 'Unnamed: 4': nan, 'Unnamed: 5': nan}\n",
      "{'Unnamed: 0': 'No.', 'Unnamed: 1': 'Categories', 'Unnamed: 2': 'Question', 'Unnamed: 3': 'Answer (VN)', 'Unnamed: 4': 'Anwers (EN)', 'Unnamed: 5': 'Main PIC'}\n"
     ]
    }
   ],
   "source": [
    "import pandas as pd\n",
    "\n",
    "# Đọc toàn bộ các sheet\n",
    "file_path = \"dataset/Domain/(HRV - C&B) FAQ FOR MEMBERS.xlsx\"\n",
    "sheets_dict = pd.read_excel(file_path, sheet_name=None, engine=\"openpyxl\")\n",
    "\n",
    "# Gộp tất cả sheet thành một danh sách các dictionary\n",
    "combined_data = []\n",
    "\n",
    "for sheet_name, df in sheets_dict.items():\n",
    "    sheet_data = df.to_dict(orient=\"records\")  # Chuyển từng sheet thành list các dictionary\n",
    "    combined_data.extend(sheet_data)  # Gộp vào danh sách chung\n",
    "\n",
    "# Kiểm tra kết quả (hiển thị 2 dòng đầu tiên)\n",
    "for row in combined_data[:2]:\n",
    "    print(row)"
   ]
  },
  {
   "cell_type": "code",
   "execution_count": 5,
   "metadata": {},
   "outputs": [
    {
     "name": "stdout",
     "output_type": "stream",
     "text": [
      "{'Unnamed: 0': nan, 'Unnamed: 1': nan, 'Unnamed: 2': nan, 'Unnamed: 3': nan, 'Unnamed: 4': nan, 'Unnamed: 5': nan}\n",
      "{'Unnamed: 0': 'No.', 'Unnamed: 1': 'Categories', 'Unnamed: 2': 'Question', 'Unnamed: 3': 'Answer (VN)', 'Unnamed: 4': 'Anwers (EN)', 'Unnamed: 5': 'Main PIC'}\n",
      "{'Unnamed: 0': 1, 'Unnamed: 1': 'Salary Calculation', 'Unnamed: 2': 'Có thể cho tôi biết công thức tính thực lĩnh hiện tại được không?\\nCould you please tell me the current salary calculation method?', 'Unnamed: 3': 'Công thức tính thực lĩnh hiện tại như sau:\\nThực lĩnh = Tổng thu nhập - Phí công đoàn - Các khoản trích nộp bảo hiểm (10.5%) - Lợi ích khác không bao gồm trong thực lĩnh - Thuế TNCN phải nộp + Điều chỉnh tăng - Điều chỉnh giảm', 'Unnamed: 4': 'The current salary calculation method:\\nNet income = Gross income - union fee - social insurance fee (10.5%) - Other benefits excluding net income - payable personal income tax + increase adjustment - decrease adjustment', 'Unnamed: 5': 'Nguyễn Thị Thanh Huyền B \\n(C&B Line)'}\n",
      "{'Unnamed: 0': nan, 'Unnamed: 1': 'Salary Calculation', 'Unnamed: 2': 'Mục \"Lợi ích khác kê khai không bao gồm trong thực lĩnh\" là khoản gì? Khoản này đưa vào khiến cho thuế của tôi bị tăng lên nhưng thực lĩnh không thay đổi.\\nWhat is \"Other benefits exclude from net salary\"? This amount increases my tax but remains my net income', 'Unnamed: 3': '\"Lợi ích khác kê khai không bao gồm trong thực lĩnh\" là các khoản benefits mang bản chất tiền lương, tiền công mà người lao động được nhận từ người sử dụng lao động. Các khoản này thường đã được người lao động thụ hưởng dưới một hình thức khác (đã nhận chuyển khoản, đã nhận tiền mặt, đã thụ hưởng dưới hình thức dịch vụ...), do đó khi tính lương, các khoản này sẽ được đưa vào tổng thu nhập để tính thuế TNCN, nhưng sẽ phải trừ đi trong thực lĩnh (vì thực tế đã được thụ hưởng ở hình thức khác rồi, chứ không phải là khoản tiền được nhận qua lương).\\nVí dụ: Tiền sinh nhật, tiền thâm niên, giá trị gói sức khỏe tinh thần....\\n', 'Unnamed: 4': '\"Other benefits exclude from net salary\" refers to benefits in the form of wages or salaries that employees receive from their employer. These benefits are often already provided to the employee in another form (e.g., through bank transfer, cash, or as a service). Consequently, when calculating the salary, these amounts are included in the total income for personal income tax purposes but must be deducted from the net income (since they have already been received in another form and are not part of the salary payment).\\nExamples: birthday gift, seniority benefits, mental health packages...', 'Unnamed: 5': 'Nguyễn Thị Thanh Huyền B \\n(C&B Line)'}\n",
      "{'Unnamed: 0': nan, 'Unnamed: 1': 'Salary Calculation', 'Unnamed: 2': 'Làm thế nào để tôi biết mức lương tham gia bảo hiểm của mình là bao nhiêu?\\nHow could I define the salary for compulsory insurance?', 'Unnamed: 3': 'Mức lương tham gia BHXH bắt buộc = Tổng lương - phụ cấp chăm sóc người thân - phụ cấp nhà ở\\n(*) Theo Điều 104 Luật Lao Động, phụ cấp nhà ở và phụ cấp chăm sóc sức khỏe người thân là hai loại phụ cấp không phải đóng BHXH', 'Unnamed: 4': 'The salary for compulsory insurance = Total salary - Family care allowance - Accommodation allowance\\n(*) According to Article 104 of the Labor Law, housing allowance and family allowance for relatives are two types of benefits that do not have to pay social insurance', 'Unnamed: 5': 'Nguyễn Thị Thanh Huyền B \\n(C&B Line)'}\n"
     ]
    }
   ],
   "source": [
    "import pandas as pd\n",
    "\n",
    "# Đọc file Excel\n",
    "file_path = \"dataset/Domain/(HRV - C&B) FAQ FOR MEMBERS.xlsx\"\n",
    "df = pd.read_excel(file_path, engine=\"openpyxl\")\n",
    "\n",
    "# Chuyển đổi từng hàng thành dictionary\n",
    "data = df.to_dict(orient=\"records\")\n",
    "\n",
    "# Hiển thị 2 dòng đầu tiên để kiểm tra\n",
    "for row in data[:5]:\n",
    "    print(row)\n"
   ]
  },
  {
   "cell_type": "code",
   "execution_count": null,
   "metadata": {},
   "outputs": [],
   "source": []
  }
 ],
 "metadata": {
  "kernelspec": {
   "display_name": "rasun",
   "language": "python",
   "name": "python3"
  },
  "language_info": {
   "codemirror_mode": {
    "name": "ipython",
    "version": 3
   },
   "file_extension": ".py",
   "mimetype": "text/x-python",
   "name": "python",
   "nbconvert_exporter": "python",
   "pygments_lexer": "ipython3",
   "version": "3.10.16"
  }
 },
 "nbformat": 4,
 "nbformat_minor": 2
}
